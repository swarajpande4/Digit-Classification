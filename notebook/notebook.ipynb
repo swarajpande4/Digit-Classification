{
 "cells": [
  {
   "cell_type": "markdown",
   "id": "b2881034-56d2-47a4-9948-c8561a5ef60e",
   "metadata": {},
   "source": [
    "## The MNIST Dataset of Handwritten Digits.\n",
    "This database contains 60,000 handwritten digits in the training set and around 10,000 handwritten digits in the test in 28x28 resolution. <br>\n",
    "We will be using the dataset in CSV format, as prepared by [*pjreddie*](https://pjreddie.com). <br> \n",
    "We will be training a Convolutional Neural Network (CNN) to predict the class of digits (i.e. 0 - 9) using PyTorch library in Python."
   ]
  },
  {
   "cell_type": "markdown",
   "id": "19f6a2c6-ba16-416a-8311-69b7eeb873ee",
   "metadata": {
    "execution": {
     "iopub.execute_input": "2021-10-14T07:27:11.571070Z",
     "iopub.status.busy": "2021-10-14T07:27:11.570610Z",
     "iopub.status.idle": "2021-10-14T07:27:11.585008Z",
     "shell.execute_reply": "2021-10-14T07:27:11.582789Z",
     "shell.execute_reply.started": "2021-10-14T07:27:11.570952Z"
    }
   },
   "source": [
    "## Table of Contents\n",
    "1. [Importing modules and the dataset](#1)\n",
    "2. [Some Exploratory Data Analysis](#2)\n",
    "3. [Featurization](#3)\n",
    "4. [Model training](#4)\n",
    "5. [Evaluation](#5)\n",
    "6. [Conclusion](#6)"
   ]
  },
  {
   "cell_type": "code",
   "execution_count": 1,
   "id": "f4a6b2fa-45c0-43f5-89a1-f86a15103378",
   "metadata": {
    "execution": {
     "iopub.execute_input": "2021-10-14T08:20:38.212462Z",
     "iopub.status.busy": "2021-10-14T08:20:38.212177Z",
     "iopub.status.idle": "2021-10-14T08:20:39.468530Z",
     "shell.execute_reply": "2021-10-14T08:20:39.467742Z",
     "shell.execute_reply.started": "2021-10-14T08:20:38.212387Z"
    },
    "tags": []
   },
   "outputs": [],
   "source": [
    "# Set up\n",
    "import numpy as np\n",
    "import pandas as pd\n",
    "import json\n",
    "import pickle\n",
    "import time\n",
    "\n",
    "# Visualizations\n",
    "import seaborn as sns \n",
    "import matplotlib.pyplot as plt\n",
    "\n",
    "# Model training\n",
    "import torch\n",
    "import torch.nn as nn\n",
    "import torch.nn.functional as F\n",
    "import torch.utils.data \n",
    "import torch.optim as optim \n",
    "from sklearn.metrics import accuracy_score"
   ]
  },
  {
   "cell_type": "code",
   "execution_count": 2,
   "id": "78f19f02-b1d9-47bb-ab08-d63961901ca1",
   "metadata": {
    "execution": {
     "iopub.execute_input": "2021-10-14T08:20:41.171121Z",
     "iopub.status.busy": "2021-10-14T08:20:41.170001Z",
     "iopub.status.idle": "2021-10-14T08:20:44.652951Z",
     "shell.execute_reply": "2021-10-14T08:20:44.652422Z",
     "shell.execute_reply.started": "2021-10-14T08:20:41.170988Z"
    },
    "tags": []
   },
   "outputs": [],
   "source": [
    "train_data = pd.read_csv('../data/train_data.csv', header=None, dtype=float)\n",
    "test_data = pd.read_csv('../data/test_data.csv', header=None, dtype=float)"
   ]
  },
  {
   "cell_type": "code",
   "execution_count": 3,
   "id": "ef377f6e-9560-49cc-b3d5-52b24e0a7878",
   "metadata": {
    "execution": {
     "iopub.execute_input": "2021-10-14T08:20:45.326181Z",
     "iopub.status.busy": "2021-10-14T08:20:45.325545Z",
     "iopub.status.idle": "2021-10-14T08:20:45.335837Z",
     "shell.execute_reply": "2021-10-14T08:20:45.334183Z",
     "shell.execute_reply.started": "2021-10-14T08:20:45.326112Z"
    },
    "tags": []
   },
   "outputs": [
    {
     "name": "stdout",
     "output_type": "stream",
     "text": [
      "Shape of training dataset is: (60000, 785)\n",
      "Shape of testing dataset is: (10000, 785)\n"
     ]
    }
   ],
   "source": [
    "print(f'Shape of training dataset is: {train_data.shape}')\n",
    "print(f'Shape of testing dataset is: {test_data.shape}')"
   ]
  },
  {
   "cell_type": "code",
   "execution_count": 4,
   "id": "b8dc1e8a-87d5-41f0-8304-132822486571",
   "metadata": {
    "execution": {
     "iopub.execute_input": "2021-10-14T08:20:46.443710Z",
     "iopub.status.busy": "2021-10-14T08:20:46.442539Z",
     "iopub.status.idle": "2021-10-14T08:20:46.514924Z",
     "shell.execute_reply": "2021-10-14T08:20:46.513640Z",
     "shell.execute_reply.started": "2021-10-14T08:20:46.443582Z"
    },
    "tags": []
   },
   "outputs": [
    {
     "data": {
      "text/html": [
       "<div>\n",
       "<style scoped>\n",
       "    .dataframe tbody tr th:only-of-type {\n",
       "        vertical-align: middle;\n",
       "    }\n",
       "\n",
       "    .dataframe tbody tr th {\n",
       "        vertical-align: top;\n",
       "    }\n",
       "\n",
       "    .dataframe thead th {\n",
       "        text-align: right;\n",
       "    }\n",
       "</style>\n",
       "<table border=\"1\" class=\"dataframe\">\n",
       "  <thead>\n",
       "    <tr style=\"text-align: right;\">\n",
       "      <th></th>\n",
       "      <th>0</th>\n",
       "      <th>1</th>\n",
       "      <th>2</th>\n",
       "      <th>3</th>\n",
       "      <th>4</th>\n",
       "      <th>5</th>\n",
       "      <th>6</th>\n",
       "      <th>7</th>\n",
       "      <th>8</th>\n",
       "      <th>9</th>\n",
       "      <th>...</th>\n",
       "      <th>775</th>\n",
       "      <th>776</th>\n",
       "      <th>777</th>\n",
       "      <th>778</th>\n",
       "      <th>779</th>\n",
       "      <th>780</th>\n",
       "      <th>781</th>\n",
       "      <th>782</th>\n",
       "      <th>783</th>\n",
       "      <th>784</th>\n",
       "    </tr>\n",
       "  </thead>\n",
       "  <tbody>\n",
       "    <tr>\n",
       "      <th>0</th>\n",
       "      <td>5.0</td>\n",
       "      <td>0.0</td>\n",
       "      <td>0.0</td>\n",
       "      <td>0.0</td>\n",
       "      <td>0.0</td>\n",
       "      <td>0.0</td>\n",
       "      <td>0.0</td>\n",
       "      <td>0.0</td>\n",
       "      <td>0.0</td>\n",
       "      <td>0.0</td>\n",
       "      <td>...</td>\n",
       "      <td>0.0</td>\n",
       "      <td>0.0</td>\n",
       "      <td>0.0</td>\n",
       "      <td>0.0</td>\n",
       "      <td>0.0</td>\n",
       "      <td>0.0</td>\n",
       "      <td>0.0</td>\n",
       "      <td>0.0</td>\n",
       "      <td>0.0</td>\n",
       "      <td>0.0</td>\n",
       "    </tr>\n",
       "    <tr>\n",
       "      <th>1</th>\n",
       "      <td>0.0</td>\n",
       "      <td>0.0</td>\n",
       "      <td>0.0</td>\n",
       "      <td>0.0</td>\n",
       "      <td>0.0</td>\n",
       "      <td>0.0</td>\n",
       "      <td>0.0</td>\n",
       "      <td>0.0</td>\n",
       "      <td>0.0</td>\n",
       "      <td>0.0</td>\n",
       "      <td>...</td>\n",
       "      <td>0.0</td>\n",
       "      <td>0.0</td>\n",
       "      <td>0.0</td>\n",
       "      <td>0.0</td>\n",
       "      <td>0.0</td>\n",
       "      <td>0.0</td>\n",
       "      <td>0.0</td>\n",
       "      <td>0.0</td>\n",
       "      <td>0.0</td>\n",
       "      <td>0.0</td>\n",
       "    </tr>\n",
       "    <tr>\n",
       "      <th>2</th>\n",
       "      <td>4.0</td>\n",
       "      <td>0.0</td>\n",
       "      <td>0.0</td>\n",
       "      <td>0.0</td>\n",
       "      <td>0.0</td>\n",
       "      <td>0.0</td>\n",
       "      <td>0.0</td>\n",
       "      <td>0.0</td>\n",
       "      <td>0.0</td>\n",
       "      <td>0.0</td>\n",
       "      <td>...</td>\n",
       "      <td>0.0</td>\n",
       "      <td>0.0</td>\n",
       "      <td>0.0</td>\n",
       "      <td>0.0</td>\n",
       "      <td>0.0</td>\n",
       "      <td>0.0</td>\n",
       "      <td>0.0</td>\n",
       "      <td>0.0</td>\n",
       "      <td>0.0</td>\n",
       "      <td>0.0</td>\n",
       "    </tr>\n",
       "    <tr>\n",
       "      <th>3</th>\n",
       "      <td>1.0</td>\n",
       "      <td>0.0</td>\n",
       "      <td>0.0</td>\n",
       "      <td>0.0</td>\n",
       "      <td>0.0</td>\n",
       "      <td>0.0</td>\n",
       "      <td>0.0</td>\n",
       "      <td>0.0</td>\n",
       "      <td>0.0</td>\n",
       "      <td>0.0</td>\n",
       "      <td>...</td>\n",
       "      <td>0.0</td>\n",
       "      <td>0.0</td>\n",
       "      <td>0.0</td>\n",
       "      <td>0.0</td>\n",
       "      <td>0.0</td>\n",
       "      <td>0.0</td>\n",
       "      <td>0.0</td>\n",
       "      <td>0.0</td>\n",
       "      <td>0.0</td>\n",
       "      <td>0.0</td>\n",
       "    </tr>\n",
       "    <tr>\n",
       "      <th>4</th>\n",
       "      <td>9.0</td>\n",
       "      <td>0.0</td>\n",
       "      <td>0.0</td>\n",
       "      <td>0.0</td>\n",
       "      <td>0.0</td>\n",
       "      <td>0.0</td>\n",
       "      <td>0.0</td>\n",
       "      <td>0.0</td>\n",
       "      <td>0.0</td>\n",
       "      <td>0.0</td>\n",
       "      <td>...</td>\n",
       "      <td>0.0</td>\n",
       "      <td>0.0</td>\n",
       "      <td>0.0</td>\n",
       "      <td>0.0</td>\n",
       "      <td>0.0</td>\n",
       "      <td>0.0</td>\n",
       "      <td>0.0</td>\n",
       "      <td>0.0</td>\n",
       "      <td>0.0</td>\n",
       "      <td>0.0</td>\n",
       "    </tr>\n",
       "  </tbody>\n",
       "</table>\n",
       "<p>5 rows × 785 columns</p>\n",
       "</div>"
      ],
      "text/plain": [
       "   0    1    2    3    4    5    6    7    8    9    ...  775  776  777  778  \\\n",
       "0  5.0  0.0  0.0  0.0  0.0  0.0  0.0  0.0  0.0  0.0  ...  0.0  0.0  0.0  0.0   \n",
       "1  0.0  0.0  0.0  0.0  0.0  0.0  0.0  0.0  0.0  0.0  ...  0.0  0.0  0.0  0.0   \n",
       "2  4.0  0.0  0.0  0.0  0.0  0.0  0.0  0.0  0.0  0.0  ...  0.0  0.0  0.0  0.0   \n",
       "3  1.0  0.0  0.0  0.0  0.0  0.0  0.0  0.0  0.0  0.0  ...  0.0  0.0  0.0  0.0   \n",
       "4  9.0  0.0  0.0  0.0  0.0  0.0  0.0  0.0  0.0  0.0  ...  0.0  0.0  0.0  0.0   \n",
       "\n",
       "   779  780  781  782  783  784  \n",
       "0  0.0  0.0  0.0  0.0  0.0  0.0  \n",
       "1  0.0  0.0  0.0  0.0  0.0  0.0  \n",
       "2  0.0  0.0  0.0  0.0  0.0  0.0  \n",
       "3  0.0  0.0  0.0  0.0  0.0  0.0  \n",
       "4  0.0  0.0  0.0  0.0  0.0  0.0  \n",
       "\n",
       "[5 rows x 785 columns]"
      ]
     },
     "metadata": {},
     "output_type": "display_data"
    }
   ],
   "source": [
    "display(train_data.head())"
   ]
  },
  {
   "cell_type": "markdown",
   "id": "66dc7669-bddf-460c-99af-21402d2c7cc7",
   "metadata": {},
   "source": [
    "The target feature (i.e. the digit label) is stored in the column named '0'."
   ]
  },
  {
   "cell_type": "markdown",
   "id": "9855638c-0189-4437-8009-97eb75e82143",
   "metadata": {},
   "source": [
    "<div id='2'></div>\n",
    "\n",
    "<br>\n",
    "\n",
    "### **2. Some Exploratory Data Analysis**"
   ]
  },
  {
   "cell_type": "code",
   "execution_count": 5,
   "id": "5dd35371-f95d-4dc5-bc15-b37805d2f35b",
   "metadata": {
    "execution": {
     "iopub.execute_input": "2021-10-14T08:20:48.292241Z",
     "iopub.status.busy": "2021-10-14T08:20:48.291197Z",
     "iopub.status.idle": "2021-10-14T08:20:48.490555Z",
     "shell.execute_reply": "2021-10-14T08:20:48.489827Z",
     "shell.execute_reply.started": "2021-10-14T08:20:48.292116Z"
    },
    "tags": []
   },
   "outputs": [
    {
     "data": {
      "image/png": "[encoded data removed]",
      "text/plain": [
       "<Figure size 720x576 with 1 Axes>"
      ]
     },
     "metadata": {
      "needs_background": "light"
     },
     "output_type": "display_data"
    }
   ],
   "source": [
    "plt.figure(figsize=(10, 8))\n",
    "sns.countplot(x = 0, data=train_data)\n",
    "\n",
    "plt.xlabel(\"Digit's Classes\")\n",
    "plt.ylabel('Frequency')\n",
    "plt.title('Frequency of Digits')\n",
    "plt.show()"
   ]
  },
  {
   "cell_type": "markdown",
   "id": "c2a6bbc2-d041-4d19-9024-655ba13eaf8d",
   "metadata": {},
   "source": [
    "The data seems to be balanced. <br>"
   ]
  },
  {
   "cell_type": "markdown",
   "id": "486008a5-47f7-4d5f-a40e-85cbf489115e",
   "metadata": {},
   "source": [
    "<div id='3'></div>\n",
    "\n",
    "<br>\n",
    "\n",
    "### **3. Featurization**\n",
    "Colors take value from 0 - 255 (in RGB), but to apply CNN its much better to make them 0 - 1. That is, making them grayscale."
   ]
  },
  {
   "cell_type": "code",
   "execution_count": 6,
   "id": "46a86303-119c-44de-9001-44aa50b3553a",
   "metadata": {
    "execution": {
     "iopub.execute_input": "2021-10-14T08:20:50.443295Z",
     "iopub.status.busy": "2021-10-14T08:20:50.442352Z",
     "iopub.status.idle": "2021-10-14T08:20:50.811068Z",
     "shell.execute_reply": "2021-10-14T08:20:50.810584Z",
     "shell.execute_reply.started": "2021-10-14T08:20:50.443188Z"
    },
    "tags": []
   },
   "outputs": [],
   "source": [
    "# We pick all the columns except the first one, as it is the target feature (label) column.\n",
    "train_mean = train_data.values[:, 1:].mean()\n",
    "train_std = train_data.values[:, 1:].std()"
   ]
  },
  {
   "cell_type": "code",
   "execution_count": 7,
   "id": "0969d1c2-8c03-4c25-9a65-149fca6e5ae7",
   "metadata": {
    "execution": {
     "iopub.execute_input": "2021-10-14T08:20:51.438833Z",
     "iopub.status.busy": "2021-10-14T08:20:51.437064Z",
     "iopub.status.idle": "2021-10-14T08:20:51.713322Z",
     "shell.execute_reply": "2021-10-14T08:20:51.712208Z",
     "shell.execute_reply.started": "2021-10-14T08:20:51.438458Z"
    },
    "tags": []
   },
   "outputs": [],
   "source": [
    "# Normalizing train and test data according to the train data distribution \n",
    "train_data.values[:, 1:] -= train_mean\n",
    "train_data.values[:, 1:] /= train_std\n",
    "test_data.values[:, 1:] -= train_mean\n",
    "test_data.values[:, 1:] /= train_std"
   ]
  },
  {
   "cell_type": "code",
   "execution_count": 8,
   "id": "2db4d958-ec10-4757-a98e-d59d55c0cea8",
   "metadata": {
    "execution": {
     "iopub.execute_input": "2021-10-14T08:20:52.595801Z",
     "iopub.status.busy": "2021-10-14T08:20:52.594943Z",
     "iopub.status.idle": "2021-10-14T08:20:52.612121Z",
     "shell.execute_reply": "2021-10-14T08:20:52.608588Z",
     "shell.execute_reply.started": "2021-10-14T08:20:52.595680Z"
    },
    "tags": []
   },
   "outputs": [
    {
     "name": "stdout",
     "output_type": "stream",
     "text": [
      "mean:33.318421449829934, std:78.56748998339742\n"
     ]
    }
   ],
   "source": [
    "print(f'mean:{train_mean}, std:{train_std}')"
   ]
  },
  {
   "cell_type": "code",
   "execution_count": 9,
   "id": "1a4d3e5e-d237-41f5-beef-b600e566b6c9",
   "metadata": {
    "execution": {
     "iopub.execute_input": "2021-10-14T08:20:53.520930Z",
     "iopub.status.busy": "2021-10-14T08:20:53.520502Z",
     "iopub.status.idle": "2021-10-14T08:20:53.990909Z",
     "shell.execute_reply": "2021-10-14T08:20:53.990147Z",
     "shell.execute_reply.started": "2021-10-14T08:20:53.520882Z"
    },
    "tags": []
   },
   "outputs": [
    {
     "name": "stdout",
     "output_type": "stream",
     "text": [
      "Saving processed datasets and normalization parameters...\n",
      "done.\n"
     ]
    }
   ],
   "source": [
    "print(\"Saving processed datasets and normalization parameters...\")\n",
    "# Save normalized data-sets\n",
    "np.save('../data/processed_train_data', train_data)\n",
    "np.save('../data/processed_test_data', test_data)\n",
    "print('done.')"
   ]
  },
  {
   "cell_type": "markdown",
   "id": "214dcb39-83a6-41db-9acc-d08ec90bb291",
   "metadata": {
    "execution": {
     "iopub.execute_input": "2021-10-14T07:57:38.227073Z",
     "iopub.status.busy": "2021-10-14T07:57:38.224972Z",
     "iopub.status.idle": "2021-10-14T07:57:38.246437Z",
     "shell.execute_reply": "2021-10-14T07:57:38.241896Z",
     "shell.execute_reply.started": "2021-10-14T07:57:38.226928Z"
    }
   },
   "source": [
    "<div id='4'></div>\n",
    "\n",
    "<br>\n",
    "\n",
    "### **4. Model Training**"
   ]
  },
  {
   "cell_type": "code",
   "execution_count": 10,
   "id": "9628d942-e210-4243-a6b6-af667280fe6e",
   "metadata": {
    "execution": {
     "iopub.execute_input": "2021-10-14T08:20:56.690415Z",
     "iopub.status.busy": "2021-10-14T08:20:56.689315Z",
     "iopub.status.idle": "2021-10-14T08:20:56.718198Z",
     "shell.execute_reply": "2021-10-14T08:20:56.716927Z",
     "shell.execute_reply.started": "2021-10-14T08:20:56.690268Z"
    },
    "tags": []
   },
   "outputs": [],
   "source": [
    "class Net(nn.Module):\n",
    "    def __init__(self):\n",
    "        super(Net, self).__init__() \n",
    "        self.conv1 = nn.Conv2d(1, 20, 5, 1)\n",
    "        self.conv2 = nn.Conv2d(20, 50, 5, 1)\n",
    "        self.fc1 = nn.Linear(4*4*50, 500)\n",
    "        self.fc2 = nn.Linear(500, 100)\n",
    "    \n",
    "    def forward(self, x):\n",
    "        x = F.relu(self.conv1(x))\n",
    "        x = F.max_pool2d(x, 2, 2)\n",
    "        x = F.relu(self.conv2(x))\n",
    "        x = F.max_pool2d(x, 2, 2)\n",
    "        x = x.view(-1, 4*4*50)\n",
    "        x = F.relu(self.fc1(x))\n",
    "        x = self.fc2(x)\n",
    "        return F.log_softmax(x, dim=1)\n",
    "    \n",
    "    def printmodel(self):\n",
    "        from torchvision import models\n",
    "        model = models.vgg16()\n",
    "        print(model)"
   ]
  },
  {
   "cell_type": "code",
   "execution_count": 11,
   "id": "4c8d780c-794b-4fdd-aaca-335e0979e429",
   "metadata": {
    "execution": {
     "iopub.execute_input": "2021-10-14T08:20:58.820695Z",
     "iopub.status.busy": "2021-10-14T08:20:58.819472Z",
     "iopub.status.idle": "2021-10-14T08:20:58.843006Z",
     "shell.execute_reply": "2021-10-14T08:20:58.839739Z",
     "shell.execute_reply.started": "2021-10-14T08:20:58.820549Z"
    },
    "tags": []
   },
   "outputs": [],
   "source": [
    "def train(model, device, train_loader, optimizer, epoch):\n",
    "    log_interval = 100\n",
    "    model.train()\n",
    "    for batch_idx, (data, target) in enumerate(train_loader):\n",
    "        data, target = data.to(device), target.to(device)\n",
    "        optimizer.zero_grad()\n",
    "        output = model(data)\n",
    "        loss = F.nll_loss(output, target)\n",
    "        loss.backward()\n",
    "        optimizer.step()\n",
    "        if batch_idx % log_interval == 0:\n",
    "            print('Train Epoch: {} [{}/{} ({:.0f}%)]\\tLoss: {:.6f}'.format(\n",
    "                epoch, batch_idx * len(data), len(train_loader.dataset),\n",
    "                100. * batch_idx / len(train_loader), loss.item()))"
   ]
  },
  {
   "cell_type": "code",
   "execution_count": 12,
   "id": "59007bfe-bd9c-4131-b5ef-2094d1d33a4d",
   "metadata": {
    "execution": {
     "iopub.execute_input": "2021-10-14T08:20:59.978540Z",
     "iopub.status.busy": "2021-10-14T08:20:59.977870Z",
     "iopub.status.idle": "2021-10-14T08:21:00.009322Z",
     "shell.execute_reply": "2021-10-14T08:21:00.000764Z",
     "shell.execute_reply.started": "2021-10-14T08:20:59.978462Z"
    },
    "tags": []
   },
   "outputs": [],
   "source": [
    "def train_model():\n",
    "    # Measure training time\n",
    "    start_time = time.time()\n",
    "\n",
    "    # Setting up network\n",
    "    print(\"Setting up Params...\")\n",
    "    device = torch.device(\"cpu\")\n",
    "    batch_size = 64\n",
    "    epochs = 3\n",
    "    learning_rate = 0.01\n",
    "    momentum = 0.5\n",
    "    print(\"done.\")\n",
    "\n",
    "    # Load training data\n",
    "    print(\"Load training data...\")\n",
    "    train_data = np.load('../data/processed_train_data.npy')\n",
    "\n",
    "    # Divide loaded data-set into data and labels\n",
    "    labels = torch.Tensor(train_data[:, 0]).long()\n",
    "    data = torch.Tensor(train_data[:, 1:].reshape([train_data.shape[0], 1, 28, 28]))\n",
    "    torch_train_data = torch.utils.data.TensorDataset(data, labels)\n",
    "    train_loader = torch.utils.data.DataLoader(torch_train_data,\n",
    "                                               batch_size=batch_size,\n",
    "                                               shuffle=True)\n",
    "    print(\"done.\")\n",
    "\n",
    "    # Define SVM classifier and train model\n",
    "    print(\"Training model...\")\n",
    "    model = Net().to(device)\n",
    "    optimizer = optim.SGD(model.parameters(),\n",
    "                          lr=learning_rate,\n",
    "                          momentum=momentum)\n",
    "\n",
    "    model.printmodel()\n",
    "    \n",
    "    for epoch in range(1, epochs + 1):\n",
    "        train(model, device, train_loader, optimizer, epoch)\n",
    "    print(\"done.\")\n",
    "\n",
    "    # Save model as pkl\n",
    "    print(\"Save model and training time metric...\")\n",
    "    with open(\"../data/model.pkl\", 'wb') as f:\n",
    "        pickle.dump(model, f)\n",
    "\n",
    "    # End training time measurement\n",
    "    end_time = time.time()\n",
    "    print(f'training_time: {end_time - start_time}')"
   ]
  },
  {
   "cell_type": "code",
   "execution_count": 13,
   "id": "ac28b95f-1573-41eb-9915-d6211d31dca6",
   "metadata": {
    "execution": {
     "iopub.execute_input": "2021-10-14T08:21:01.120287Z",
     "iopub.status.busy": "2021-10-14T08:21:01.119594Z",
     "iopub.status.idle": "2021-10-14T08:22:18.293284Z",
     "shell.execute_reply": "2021-10-14T08:22:18.291588Z",
     "shell.execute_reply.started": "2021-10-14T08:21:01.120210Z"
    },
    "tags": []
   },
   "outputs": [
    {
     "name": "stdout",
     "output_type": "stream",
     "text": [
      "Setting up Params...\n",
      "done.\n",
      "Load training data...\n",
      "done.\n",
      "Training model...\n",
      "VGG(\n",
      "  (features): Sequential(\n",
      "    (0): Conv2d(3, 64, kernel_size=(3, 3), stride=(1, 1), padding=(1, 1))\n",
      "    (1): ReLU(inplace=True)\n",
      "    (2): Conv2d(64, 64, kernel_size=(3, 3), stride=(1, 1), padding=(1, 1))\n",
      "    (3): ReLU(inplace=True)\n",
      "    (4): MaxPool2d(kernel_size=2, stride=2, padding=0, dilation=1, ceil_mode=False)\n",
      "    (5): Conv2d(64, 128, kernel_size=(3, 3), stride=(1, 1), padding=(1, 1))\n",
      "    (6): ReLU(inplace=True)\n",
      "    (7): Conv2d(128, 128, kernel_size=(3, 3), stride=(1, 1), padding=(1, 1))\n",
      "    (8): ReLU(inplace=True)\n",
      "    (9): MaxPool2d(kernel_size=2, stride=2, padding=0, dilation=1, ceil_mode=False)\n",
      "    (10): Conv2d(128, 256, kernel_size=(3, 3), stride=(1, 1), padding=(1, 1))\n",
      "    (11): ReLU(inplace=True)\n",
      "    (12): Conv2d(256, 256, kernel_size=(3, 3), stride=(1, 1), padding=(1, 1))\n",
      "    (13): ReLU(inplace=True)\n",
      "    (14): Conv2d(256, 256, kernel_size=(3, 3), stride=(1, 1), padding=(1, 1))\n",
      "    (15): ReLU(inplace=True)\n",
      "    (16): MaxPool2d(kernel_size=2, stride=2, padding=0, dilation=1, ceil_mode=False)\n",
      "    (17): Conv2d(256, 512, kernel_size=(3, 3), stride=(1, 1), padding=(1, 1))\n",
      "    (18): ReLU(inplace=True)\n",
      "    (19): Conv2d(512, 512, kernel_size=(3, 3), stride=(1, 1), padding=(1, 1))\n",
      "    (20): ReLU(inplace=True)\n",
      "    (21): Conv2d(512, 512, kernel_size=(3, 3), stride=(1, 1), padding=(1, 1))\n",
      "    (22): ReLU(inplace=True)\n",
      "    (23): MaxPool2d(kernel_size=2, stride=2, padding=0, dilation=1, ceil_mode=False)\n",
      "    (24): Conv2d(512, 512, kernel_size=(3, 3), stride=(1, 1), padding=(1, 1))\n",
      "    (25): ReLU(inplace=True)\n",
      "    (26): Conv2d(512, 512, kernel_size=(3, 3), stride=(1, 1), padding=(1, 1))\n",
      "    (27): ReLU(inplace=True)\n",
      "    (28): Conv2d(512, 512, kernel_size=(3, 3), stride=(1, 1), padding=(1, 1))\n",
      "    (29): ReLU(inplace=True)\n",
      "    (30): MaxPool2d(kernel_size=2, stride=2, padding=0, dilation=1, ceil_mode=False)\n",
      "  )\n",
      "  (avgpool): AdaptiveAvgPool2d(output_size=(7, 7))\n",
      "  (classifier): Sequential(\n",
      "    (0): Linear(in_features=25088, out_features=4096, bias=True)\n",
      "    (1): ReLU(inplace=True)\n",
      "    (2): Dropout(p=0.5, inplace=False)\n",
      "    (3): Linear(in_features=4096, out_features=4096, bias=True)\n",
      "    (4): ReLU(inplace=True)\n",
      "    (5): Dropout(p=0.5, inplace=False)\n",
      "    (6): Linear(in_features=4096, out_features=1000, bias=True)\n",
      "  )\n",
      ")\n",
      "Train Epoch: 1 [0/60000 (0%)]\tLoss: 4.680143\n"
     ]
    },
    {
     "name": "stderr",
     "output_type": "stream",
     "text": [
      "/home/swarajpande/anaconda3/lib/python3.8/site-packages/torch/nn/functional.py:718: UserWarning: Named tensors and all their associated APIs are an experimental feature and subject to change. Please do not use them for anything important until they are released as stable. (Triggered internally at  /opt/conda/conda-bld/pytorch_1623448216815/work/c10/core/TensorImpl.h:1156.)\n",
      "  return torch.max_pool2d(input, kernel_size, stride, padding, dilation, ceil_mode)\n"
     ]
    },
    {
     "name": "stdout",
     "output_type": "stream",
     "text": [
      "Train Epoch: 1 [6400/60000 (11%)]\tLoss: 0.764109\n",
      "Train Epoch: 1 [12800/60000 (21%)]\tLoss: 0.483026\n",
      "Train Epoch: 1 [19200/60000 (32%)]\tLoss: 0.345937\n",
      "Train Epoch: 1 [25600/60000 (43%)]\tLoss: 0.271265\n",
      "Train Epoch: 1 [32000/60000 (53%)]\tLoss: 0.319492\n",
      "Train Epoch: 1 [38400/60000 (64%)]\tLoss: 0.182181\n",
      "Train Epoch: 1 [44800/60000 (75%)]\tLoss: 0.120749\n",
      "Train Epoch: 1 [51200/60000 (85%)]\tLoss: 0.062898\n",
      "Train Epoch: 1 [57600/60000 (96%)]\tLoss: 0.207629\n",
      "Train Epoch: 2 [0/60000 (0%)]\tLoss: 0.089428\n",
      "Train Epoch: 2 [6400/60000 (11%)]\tLoss: 0.206711\n",
      "Train Epoch: 2 [12800/60000 (21%)]\tLoss: 0.137870\n",
      "Train Epoch: 2 [19200/60000 (32%)]\tLoss: 0.068225\n",
      "Train Epoch: 2 [25600/60000 (43%)]\tLoss: 0.068546\n",
      "Train Epoch: 2 [32000/60000 (53%)]\tLoss: 0.073166\n",
      "Train Epoch: 2 [38400/60000 (64%)]\tLoss: 0.015309\n",
      "Train Epoch: 2 [44800/60000 (75%)]\tLoss: 0.028978\n",
      "Train Epoch: 2 [51200/60000 (85%)]\tLoss: 0.104812\n",
      "Train Epoch: 2 [57600/60000 (96%)]\tLoss: 0.059900\n",
      "Train Epoch: 3 [0/60000 (0%)]\tLoss: 0.148229\n",
      "Train Epoch: 3 [6400/60000 (11%)]\tLoss: 0.022257\n",
      "Train Epoch: 3 [12800/60000 (21%)]\tLoss: 0.059672\n",
      "Train Epoch: 3 [19200/60000 (32%)]\tLoss: 0.031209\n",
      "Train Epoch: 3 [25600/60000 (43%)]\tLoss: 0.055290\n",
      "Train Epoch: 3 [32000/60000 (53%)]\tLoss: 0.050672\n",
      "Train Epoch: 3 [38400/60000 (64%)]\tLoss: 0.036410\n",
      "Train Epoch: 3 [44800/60000 (75%)]\tLoss: 0.015427\n",
      "Train Epoch: 3 [51200/60000 (85%)]\tLoss: 0.008392\n",
      "Train Epoch: 3 [57600/60000 (96%)]\tLoss: 0.114825\n",
      "done.\n",
      "Save model and training time metric...\n",
      "training_time: 77.1524600982666\n"
     ]
    }
   ],
   "source": [
    "train_model()"
   ]
  },
  {
   "cell_type": "markdown",
   "id": "401eef86-f4a7-41e7-8228-8579ebe33250",
   "metadata": {},
   "source": [
    "<div id='5'></div>\n",
    "\n",
    "<br>\n",
    "\n",
    "### **5. Evaluation**"
   ]
  },
  {
   "cell_type": "code",
   "execution_count": 16,
   "id": "a9f5d3d7-f60c-4b22-9f7b-d59100d43215",
   "metadata": {
    "execution": {
     "iopub.execute_input": "2021-10-14T08:25:59.137378Z",
     "iopub.status.busy": "2021-10-14T08:25:59.137132Z",
     "iopub.status.idle": "2021-10-14T08:25:59.146053Z",
     "shell.execute_reply": "2021-10-14T08:25:59.145303Z",
     "shell.execute_reply.started": "2021-10-14T08:25:59.137353Z"
    },
    "tags": []
   },
   "outputs": [],
   "source": [
    "def eval_model():\n",
    "    # Load test data\n",
    "    print(\"Loading data and model...\")\n",
    "    test_data = np.load('../data/processed_test_data.npy')\n",
    "\n",
    "    # Load trained model\n",
    "    with open('../data/model.pkl', 'rb') as f:\n",
    "        model = pickle.load(f)\n",
    "\n",
    "    # Switch model to evaluation (inference) mode\n",
    "    model.eval()\n",
    "\n",
    "    print(\"done.\")\n",
    "\n",
    "    # Divide loaded data-set into data and labels\n",
    "    labels = test_data[:, 0]\n",
    "    data = torch.Tensor(test_data[:, 1:].reshape([test_data.shape[0], 1, 28, 28]))\n",
    "\n",
    "    # Run model on test data\n",
    "    print(\"Running model on test data...\")\n",
    "    predictions = model(data).max(1, keepdim=True)[1].cpu().data.numpy()\n",
    "    print(\"done.\")\n",
    "\n",
    "    print(f\"accuracy: {accuracy_score(labels, predictions)}\")"
   ]
  },
  {
   "cell_type": "code",
   "execution_count": 17,
   "id": "c88c5a75-f728-40ed-9a23-a020e947a20d",
   "metadata": {
    "execution": {
     "iopub.execute_input": "2021-10-14T08:25:59.538532Z",
     "iopub.status.busy": "2021-10-14T08:25:59.538144Z",
     "iopub.status.idle": "2021-10-14T08:26:01.380006Z",
     "shell.execute_reply": "2021-10-14T08:26:01.378391Z",
     "shell.execute_reply.started": "2021-10-14T08:25:59.538490Z"
    },
    "tags": []
   },
   "outputs": [
    {
     "name": "stdout",
     "output_type": "stream",
     "text": [
      "Loading data and model...\n",
      "done.\n",
      "Running model on test data...\n",
      "done.\n",
      "accuracy: 0.9845\n"
     ]
    }
   ],
   "source": [
    "eval_model()"
   ]
  },
  {
   "cell_type": "markdown",
   "id": "c3a32ec4-bc2e-4baa-8f73-33de5ab72678",
   "metadata": {},
   "source": [
    "<div id='6'></div>\n",
    "\n",
    "<br>\n",
    "\n",
    "### **6. Conclusion**\n",
    "We trained a Convolutional Neural Network, and achieved 98.45% accuracy on the test set."
   ]
  },
  {
   "cell_type": "code",
   "execution_count": null,
   "id": "20af185f-8bfc-4687-9efb-355af6737fa2",
   "metadata": {},
   "outputs": [],
   "source": []
  }
 ],
 "metadata": {
  "kernelspec": {
   "display_name": "Python 3",
   "language": "python",
   "name": "python3"
  },
  "language_info": {
   "codemirror_mode": {
    "name": "ipython",
    "version": 3
   },
   "file_extension": ".py",
   "mimetype": "text/x-python",
   "name": "python",
   "nbconvert_exporter": "python",
   "pygments_lexer": "ipython3",
   "version": "3.8.8"
  }
 },
 "nbformat": 4,
 "nbformat_minor": 5
}
